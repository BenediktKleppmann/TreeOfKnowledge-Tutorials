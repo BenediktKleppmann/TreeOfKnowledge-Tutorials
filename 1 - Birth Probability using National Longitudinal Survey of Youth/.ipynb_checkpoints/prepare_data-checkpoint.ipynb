{
 "cells": [
  {
   "cell_type": "markdown",
   "metadata": {},
   "source": [
    "# -----------------------------       Data Preparation       -----------------------------"
   ]
  },
  {
   "cell_type": "markdown",
   "metadata": {},
   "source": [
    "**This jupyter notebook is not necessary for running the tutorial.** <br>\n",
    "It describes how the dataset 'national_longitudinal_survey_of_youth_1979.csv' was obtained/generated.<br>\n",
    "This information is provided in order to guarantee full transparency and replicability.\n",
    "\n",
    "The dataset was created by running the following steps..."
   ]
  },
  {
   "cell_type": "markdown",
   "metadata": {},
   "source": [
    "## 1 Download"
   ]
  },
  {
   "cell_type": "markdown",
   "metadata": {},
   "source": [
    "<ol>\n",
    "    <li>Navigate to https://www.nlsinfo.org/content/cohorts/nlsy79/get-data and click on \"Direct link to NLSY79 data\".</li>\n",
    "    <li>In the tab \"Variable Search\", choose the columns that should be included. We chose the columns listed in the variable 'used_columns_df' (see next cell).</li>\n",
    "    <li>In the tab \"Save / Download\", navigate to the sub-tab \"Advanced Download\". Here do the following:\n",
    "               make sure only the last three boxes are checked ('Codebook of selected variables', 'Short Description File' and 'Comma-delimited datafile of selected variables'). For \"Column headers\" make sure the radio button \"Reference Number\" is selected. Press \"Download\".</li>\n",
    "    <li>Save the file default.zip and unzip it into the folder \"/1 - Birth Probability using National Longitudinal Survey of Youth/data/\"</li>\n"
   ]
  },
  {
   "cell_type": "code",
   "execution_count": 58,
   "metadata": {
    "collapsed": true
   },
   "outputs": [
    {
     "data": {
      "text/html": [
       "<div>\n",
       "<style scoped>\n",
       "    .dataframe tbody tr th:only-of-type {\n",
       "        vertical-align: middle;\n",
       "    }\n",
       "\n",
       "    .dataframe tbody tr th {\n",
       "        vertical-align: top;\n",
       "    }\n",
       "\n",
       "    .dataframe thead th {\n",
       "        text-align: right;\n",
       "    }\n",
       "</style>\n",
       "<table border=\"1\" class=\"dataframe\">\n",
       "  <thead>\n",
       "    <tr style=\"text-align: right;\">\n",
       "      <th></th>\n",
       "      <th>Reference Number</th>\n",
       "      <th>Year</th>\n",
       "      <th>Variable Description</th>\n",
       "    </tr>\n",
       "  </thead>\n",
       "  <tbody>\n",
       "    <tr>\n",
       "      <th>360</th>\n",
       "      <td>T5771500</td>\n",
       "      <td>2016</td>\n",
       "      <td>AGE AT INTERVIEW</td>\n",
       "    </tr>\n",
       "    <tr>\n",
       "      <th>358</th>\n",
       "      <td>T5023600</td>\n",
       "      <td>2014</td>\n",
       "      <td>AGE AT INTERVIEW</td>\n",
       "    </tr>\n",
       "    <tr>\n",
       "      <th>327</th>\n",
       "      <td>R3075000</td>\n",
       "      <td>1989</td>\n",
       "      <td>AGE AT INTERVIEW DATE</td>\n",
       "    </tr>\n",
       "    <tr>\n",
       "      <th>321</th>\n",
       "      <td>R2258110</td>\n",
       "      <td>1986</td>\n",
       "      <td>AGE AT INTERVIEW DATE</td>\n",
       "    </tr>\n",
       "    <tr>\n",
       "      <th>329</th>\n",
       "      <td>R3401700</td>\n",
       "      <td>1990</td>\n",
       "      <td>AGE AT INTERVIEW DATE</td>\n",
       "    </tr>\n",
       "    <tr>\n",
       "      <th>...</th>\n",
       "      <td>...</td>\n",
       "      <td>...</td>\n",
       "      <td>...</td>\n",
       "    </tr>\n",
       "    <tr>\n",
       "      <th>7</th>\n",
       "      <td>R0173600</td>\n",
       "      <td>1979</td>\n",
       "      <td>SAMPLE IDENTIFICATION CODE</td>\n",
       "    </tr>\n",
       "    <tr>\n",
       "      <th>304</th>\n",
       "      <td>R0173600</td>\n",
       "      <td>1979</td>\n",
       "      <td>SAMPLE IDENTIFICATION CODE</td>\n",
       "    </tr>\n",
       "    <tr>\n",
       "      <th>9</th>\n",
       "      <td>R0214800</td>\n",
       "      <td>1979</td>\n",
       "      <td>SEX OF R</td>\n",
       "    </tr>\n",
       "    <tr>\n",
       "      <th>306</th>\n",
       "      <td>R0214800</td>\n",
       "      <td>1979</td>\n",
       "      <td>SEX OF R</td>\n",
       "    </tr>\n",
       "    <tr>\n",
       "      <th>303</th>\n",
       "      <td>R0011500</td>\n",
       "      <td>1979</td>\n",
       "      <td>YEAR OF BIRTH OF MOST RECENT SPOUSE</td>\n",
       "    </tr>\n",
       "  </tbody>\n",
       "</table>\n",
       "<p>361 rows × 3 columns</p>\n",
       "</div>"
      ],
      "text/plain": [
       "    Reference Number  Year                 Variable Description\n",
       "360         T5771500  2016                     AGE AT INTERVIEW\n",
       "358         T5023600  2014                     AGE AT INTERVIEW\n",
       "327         R3075000  1989                AGE AT INTERVIEW DATE\n",
       "321         R2258110  1986                AGE AT INTERVIEW DATE\n",
       "329         R3401700  1990                AGE AT INTERVIEW DATE\n",
       "..               ...   ...                                  ...\n",
       "7           R0173600  1979           SAMPLE IDENTIFICATION CODE\n",
       "304         R0173600  1979           SAMPLE IDENTIFICATION CODE\n",
       "9           R0214800  1979                             SEX OF R\n",
       "306         R0214800  1979                             SEX OF R\n",
       "303         R0011500  1979  YEAR OF BIRTH OF MOST RECENT SPOUSE\n",
       "\n",
       "[361 rows x 3 columns]"
      ]
     },
     "execution_count": 58,
     "metadata": {},
     "output_type": "execute_result"
    }
   ],
   "source": [
    "import pandas as pd\n",
    "import numpy as np\n",
    "reference_numbers = ['R0000100', 'R0017300', 'R0070500', 'R0070600', 'R0070700', 'R0070800', 'R0070900', 'R0173600', 'R0214700', 'R0214800', 'R0214901', 'R0215700', 'R0217501', 'R0217502', 'R0218001', 'R0229200', 'R0337800', 'R0349300', 'R0360800', 'R0372300', 'R0383800', 'R0405210', 'R0405601', 'R0406301', 'R0407200', 'R0407601', 'R0417400', 'R0545600', 'R0558700', 'R0571800', 'R0584900', 'R0598000', 'R0618601', 'R0618801', 'R0646300', 'R0647101', 'R0647103', 'R0664500', 'R0839900', 'R0853000', 'R0866100', 'R0879200', 'R0892300', 'R0896710', 'R0896900', 'R0898401', 'R0898501', 'R0898838', 'R0905900', 'R1087300', 'R1100500', 'R1113700', 'R1126900', 'R1140100', 'R1144410', 'R1144701', 'R1144901', 'R1145300', 'R1146830', 'R1205800', 'R1463000', 'R1476100', 'R1489200', 'R1502300', 'R1515400', 'R1519610', 'R1519901', 'R1520101', 'R1520500', 'R1522037', 'R1605100', 'R1809800', 'R1822500', 'R1835200', 'R1847900', 'R1860600', 'R1890210', 'R1890601', 'R1890801', 'R1891200', 'R1892737', 'R1905600', 'R2171500', 'R2185100', 'R2198700', 'R2212300', 'R2225900', 'R2257410', 'R2257701', 'R2257901', 'R2258300', 'R2259837', 'R2306500', 'R2376300', 'R2387600', 'R2398900', 'R2410200', 'R2421500', 'R2444610', 'R2445101', 'R2445301', 'R2445700', 'R2448037', 'R2509000', 'R2770900', 'R2783800', 'R2796700', 'R2809600', 'R2822500', 'R2870110', 'R2870700', 'R2871000', 'R2871500', 'R2877600', 'R2908100', 'R3012700', 'R3025800', 'R3038900', 'R3052000', 'R3065100', 'R3073910', 'R3074400', 'R3074700', 'R3075200', 'R3110200', 'R3340100', 'R3354100', 'R3368100', 'R3382100', 'R3396100', 'R3400600', 'R3401100', 'R3401400', 'R3401900', 'R3407700', 'R3510200', 'R3604400', 'R3616500', 'R3628600', 'R3640700', 'R3652800', 'R3656000', 'R3656500', 'R3656800', 'R3657300', 'R3659047', 'R3710200', 'R3954600', 'R3966800', 'R3979000', 'R3991200', 'R4003400', 'R4006500', 'R4007000', 'R4007300', 'R4007800', 'R4009447', 'R4137900', 'R4193200', 'R4205500', 'R4212700', 'R4220300', 'R4227800', 'R4417600', 'R4418100', 'R4418400', 'R4418900', 'R4444700', 'R4526500', 'R4582900', 'R4627100', 'R4671000', 'R4710600', 'R4744900', 'R5080600', 'R5081100', 'R5081400', 'R5081900', 'R5087500', 'R5165900', 'R5166400', 'R5166700', 'R5167200', 'R5172800', 'R5221800', 'R5267100', 'R5307400', 'R5346600', 'R5383700', 'R5418200', 'R5820800', 'R5821800', 'R5912600', 'R5912700', 'R5912800', 'R5912900', 'R5913000', 'R6478600', 'R6479000', 'R6479300', 'R6480000', 'R6486400', 'R6539500', 'R6540400', 'R6578200', 'R6578300', 'R6578400', 'R6578500', 'R6578600', 'R6839600', 'R7006400', 'R7007000', 'R7007700', 'R7102700', 'R7103600', 'R7192900', 'R7193000', 'R7193100', 'R7193200', 'R7193300', 'R7548600', 'R7703600', 'R7704300', 'R7705000', 'R7809600', 'R7810500', 'R7879600', 'R7879700', 'R7879800', 'R7879900', 'R7880000', 'R8255400', 'R8496000', 'R8496700', 'R8497400', 'T0013500', 'T0014400', 'T0121900', 'T0122000', 'T0122100', 'T0122200', 'T0122300', 'T0857100', 'T0987600', 'T0988200', 'T0988500', 'T0989200', 'T1212000', 'T1214300', 'T1281800', 'T1281900', 'T1282000', 'T1282100', 'T1282200', 'T2015100', 'T2209900', 'T2210500', 'T2211000', 'T2271900', 'T2272800', 'T2302300', 'T2302400', 'T2302500', 'T2302600', 'T2302700', 'T2998600', 'T3107700', 'T3108400', 'T3108900', 'T3209600', 'T3212900', 'T3280800', 'T3280900', 'T3281000', 'T3281100', 'T3281200', 'T3942500', 'T4112200', 'T4112900', 'T4113400', 'T4198000', 'T4201100', 'T4254500', 'T4254600', 'T4254700', 'T4254800', 'T4254900', 'T4876800', 'T5022500', 'T5023300', 'T5024800', 'T5175000', 'T5176000', 'T5176100', 'T5227800', 'T5227900', 'T5228000', 'T5228100', 'T5228200', 'T5593000', 'T5770700', 'T5771200', 'T5772800', 'R0011500', 'R0173600', 'R0214700', 'R0214800', 'R0216500', 'R0225400', 'R0406510', 'R0413000', 'R0619010', 'R0658800', 'R0898310', 'R0902700', 'R1145110', 'R1202500', 'R1520310', 'R1601800', 'R1891010', 'R1901800', 'R2258110', 'R2301800', 'R2445510', 'R2502900', 'R2871300', 'R2902900', 'R3075000', 'R3103300', 'R3401700', 'R3503300', 'R3657100', 'R3703300', 'R4007600', 'R4122001', 'R4418700', 'R4506301', 'R4506801', 'R5081700', 'R5167000', 'R5206701', 'R5805701', 'R6479800', 'R6538001', 'R7007500', 'R7101201', 'R7704800', 'R7808101', 'R8497200', 'T0012001', 'T0989000', 'T1210501', 'T2210800', 'T2270401', 'T3108700', 'T3206901', 'T4113200', 'T4194901', 'T5023600', 'T5173501', 'T5771500']\n",
    "years = ['1979',  '1979',  '1979',  '1979',  '1979',  '1979',  '1979',  '1979',  '78SCRN',  '1979',  '1979',  '1979',  '1979',  '1979',  '1979',  '1980',  '1980',  '1980',  '1980',  '1980',  '1980',  '1980',  '1980',  '1980',  '1980',  '1980',  '1981',  '1981',  '1981',  '1981',  '1981',  '1981',  '1981',  '1981',  '1981',  '1981',  '1981',  '1982',  '1982',  '1982',  '1982',  '1982',  '1982',  '1982',  '1982',  '1982',  '1982',  '1982',  '1983',  '1983',  '1983',  '1983',  '1983',  '1983',  '1983',  '1983',  '1983',  '1983',  '1983',  '1984',  '1984',  '1984',  '1984',  '1984',  '1984',  '1984',  '1984',  '1984',  '1984',  '1984',  '1985',  '1985',  '1985',  '1985',  '1985',  '1985',  '1985',  '1985',  '1985',  '1985',  '1985',  '1986',  '1986',  '1986',  '1986',  '1986',  '1986',  '1986',  '1986',  '1986',  '1986',  '1986',  '1987',  '1987',  '1987',  '1987',  '1987',  '1987',  '1987',  '1987',  '1987',  '1987',  '1987',  '1988',  '1988',  '1988',  '1988',  '1988',  '1988',  '1988',  '1988',  '1988',  '1988',  '1988',  '1989',  '1989',  '1989',  '1989',  '1989',  '1989',  '1989',  '1989',  '1989',  '1989',  '1990',  '1990',  '1990',  '1990',  '1990',  '1990',  '1990',  '1990',  '1990',  '1990',  '1990',  '1991',  '1991',  '1991',  '1991',  '1991',  '1991',  '1991',  '1991',  '1991',  '1991',  '1991',  '1992',  '1992',  '1992',  '1992',  '1992',  '1992',  '1992',  '1992',  '1992',  '1992',  '1992',  '1993',  '1993',  '1993',  '1993',  '1993',  '1993',  '1993',  '1993',  '1993',  '1993',  '1993',  '1994',  '1994',  '1994',  '1994',  '1994',  '1994',  '1994',  '1994',  '1994',  '1994',  '1994',  '1996',  '1996',  '1996',  '1996',  '1996',  '1996',  '1996',  '1996',  '1996',  '1996',  '1996',  '1998',  '1998',  '1998',  '1998',  '1998',  '1998',  '1998',  '1998',  '1998',  '1998',  '1998',  '1998',  '2000',  '2000',  '2000',  '2000',  '2000',  '2000',  '2000',  '2000',  '2000',  '2000',  '2000',  '2002',  '2002',  '2002',  '2002',  '2002',  '2002',  '2002',  '2002',  '2002',  '2002',  '2002',  '2004',  '2004',  '2004',  '2004',  '2004',  '2004',  '2004',  '2004',  '2004',  '2004',  '2004',  '2006',  '2006',  '2006',  '2006',  '2006',  '2006',  '2006',  '2006',  '2006',  '2006',  '2006',  '2006',  '2008',  '2008',  '2008',  '2008',  '2008',  '2008',  '2008',  '2008',  '2008',  '2008',  '2008',  '2010',  '2010',  '2010',  '2010',  '2010',  '2010',  '2010',  '2010',  '2010',  '2010',  '2010',  '2012',  '2012',  '2012',  '2012',  '2012',  '2012',  '2012',  '2012',  '2012',  '2012',  '2012',  '2014',  '2014',  '2014',  '2014',  '2014',  '2014',  '2014',  '2014',  '2014',  '2014',  '2014',  '2016',  '2016',  '2016',  '2016',  '2016',  '2016',  '2016',  '2016',  '2016',  '2016',  '2016',  '2016',  '1979',  '1979',  '78SCRN',  '1979',  '1979',  '1980',  '1980',  '1981',  '1981',  '1982',  '1982',  '1983',  '1983',  '1984',  '1984',  '1985',  '1985',  '1986',  '1986',  '1987',  '1987',  '1988',  '1988',  '1989',  '1989',  '1990',  '1990',  '1991',  '1991',  '1992',  '1992',  '1993',  '1993',  '1994',  '1994',  '1994',  '1996',  '1996',  '1998',  '1998',  '2000',  '2000',  '2002',  '2002',  '2004',  '2004',  '2006',  '2006',  '2008',  '2008',  '2010',  '2010',  '2012',  '2012',  '2014',  '2014',  '2016',  '2016']\n",
    "variable_descriptions = ['IDENTIFICATION CODE', 'HIGHEST GRADE COMPLETED', 'HOURS PER WEEK WORKED JOB #01', 'HOURS PER WEEK WORKED JOB #02', 'HOURS PER WEEK WORKED JOB #03', 'HOURS PER WEEK WORKED JOB #04', 'HOURS PER WEEK WORKED JOB #05', 'SAMPLE IDENTIFICATION CODE', \"R'S RACIAL/ETHNIC COHORT FROM SCREENER\", 'SEX OF R', 'EMPLOYMENT STATUS RECODE (COLLAPSED)', 'NUMBER OF WEEKS WORKED IN PAST CALENDAR', 'MARITAL STATUS', 'FAMILY SIZE', 'NUMBER OF BIOLOGICAL CHILDREN REPORTED', 'HIGHEST GRADE COMPLETED', 'HOURS PER WEEK WORKED JOB #01', 'HOURS PER WEEK WORKED JOB #02', 'HOURS PER WEEK WORKED JOB #03', 'HOURS PER WEEK WORKED JOB #04', 'HOURS PER WEEK WORKED JOB #05', 'FAMILY SIZE', 'MARITAL STATUS', 'EMPLOYMENT STATUS RECODE (COLLAPSED)', 'NUMBER OF WEEKS WORKED IN PAST CALENDAR', 'NUMBER OF BIOLOGICAL CHILDREN REPORTED', 'HIGHEST GRADE COMPLETED', 'HOURS PER WEEK WORKED JOB #01', 'HOURS PER WEEK WORKED JOB #02', 'HOURS PER WEEK WORKED JOB #03', 'HOURS PER WEEK WORKED JOB #04', 'HOURS PER WEEK WORKED JOB #05', 'MARITAL STATUS', 'EMPLOYMENT STATUS RECODE (COLLAPSED)', 'NUMBER OF WEEKS WORKED IN PAST CALENDAR', 'NUMBER OF BIOLOGICAL CHILDREN REPORTED', 'FAMILY SIZE', 'HIGHEST GRADE COMPLETED', 'HOURS PER WEEK WORKED JOB #01', 'HOURS PER WEEK WORKED JOB #02', 'HOURS PER WEEK WORKED JOB #03', 'HOURS PER WEEK WORKED JOB #04', 'HOURS PER WEEK WORKED JOB #05', 'FAMILY SIZE', 'NUMBER OF WEEKS WORKED IN PAST CALENDAR', 'MARITAL STATUS', 'EMPLOYMENT STATUS RECODE (COLLAPSED)', 'NUMBER OF BIOLOGICAL CHILDREN REPORTED', 'HIGHEST GRADE COMPLETED', 'HOURS PER WEEK WORKED JOB #01', 'HOURS PER WEEK WORKED JOB #02', 'HOURS PER WEEK WORKED JOB #03', 'HOURS PER WEEK WORKED JOB #04', 'HOURS PER WEEK WORKED JOB #05', 'FAMILY SIZE', 'EMPLOYMENT STATUS RECODE (COLLAPSED)', 'MARITAL STATUS', 'NUMBER OF WEEKS WORKED IN PAST CALENDAR', 'NUMBER OF BIOLOGICAL CHILDREN REPORTED', 'HIGHEST GRADE COMPLETED', 'HOURS PER WEEK WORKED JOB #01', 'HOURS PER WEEK WORKED JOB #02', 'HOURS PER WEEK WORKED JOB #03', 'HOURS PER WEEK WORKED JOB #04', 'HOURS PER WEEK WORKED JOB #05', 'FAMILY SIZE', 'EMPLOYMENT STATUS RECODE (COLLAPSED)', 'MARITAL STATUS', 'NUMBER OF WEEKS WORKED IN PAST CALENDAR', 'NUMBER OF BIOLOGICAL CHILDREN REPORTED', 'HIGHEST GRADE COMPLETED', 'HOURS PER WEEK WORKED JOB #01', 'HOURS PER WEEK WORKED JOB #02', 'HOURS PER WEEK WORKED JOB #03', 'HOURS PER WEEK WORKED JOB #04', 'HOURS PER WEEK WORKED JOB #05', 'FAMILY SIZE', 'EMPLOYMENT STATUS RECODE (COLLAPSED)', 'MARITAL STATUS', 'NUMBER OF WEEKS WORKED IN PAST CALENDAR', 'NUMBER OF BIOLOGICAL CHILDREN REPORTED', 'HIGHEST GRADE COMPLETED', 'HOURS PER WEEK WORKED JOB #01', 'HOURS PER WEEK WORKED JOB #02', 'HOURS PER WEEK WORKED JOB #03', 'HOURS PER WEEK WORKED JOB #04', 'HOURS PER WEEK WORKED JOB #05', 'FAMILY SIZE', 'EMPLOYMENT STATUS RECODE (COLLAPSED)', 'MARITAL STATUS', 'NUMBER OF WEEKS WORKED IN PAST CALENDAR', 'NUMBER OF BIOLOGICAL CHILDREN REPORTED', 'HIGHEST GRADE COMPLETED', 'HOURS PER WEEK WORKED JOB #01', 'HOURS PER WEEK WORKED JOB #02', 'HOURS PER WEEK WORKED JOB #03', 'HOURS PER WEEK WORKED JOB #04', 'HOURS PER WEEK WORKED JOB #05', 'FAMILY SIZE', 'EMPLOYMENT STATUS RECODE (COLLAPSED)', 'MARITAL STATUS', 'NUMBER OF WEEKS WORKED IN PAST CALENDAR', 'NUMBER OF BIOLOGICAL CHILDREN REPORTED', 'HIGHEST GRADE COMPLETED', 'HOURS PER WEEK WORKED JOB #01', 'HOURS PER WEEK WORKED JOB #02', 'HOURS PER WEEK WORKED JOB #03', 'HOURS PER WEEK WORKED JOB #04', 'HOURS PER WEEK WORKED JOB #05', 'FAMILY SIZE', 'EMPLOYMENT STATUS RECODE (COLLAPSED)', 'MARITAL STATUS', 'NUMBER OF WEEKS WORKED IN PAST CALENDAR', 'NUMBER OF BIOLOGICAL CHILDREN REPORTED', 'HIGHEST GRADE COMPLETED', 'HOURS PER WEEK WORKED JOB #01', 'HOURS PER WEEK WORKED JOB #02', 'HOURS PER WEEK WORKED JOB #03', 'HOURS PER WEEK WORKED JOB #04', 'HOURS PER WEEK WORKED JOB #05', 'FAMILY SIZE', 'EMPLOYMENT STATUS RECODE (COLLAPSED)', 'MARITAL STATUS', 'NUMBER OF WEEKS WORKED IN PAST CALENDAR', 'HIGHEST GRADE COMPLETED', 'HOURS PER WEEK WORKED JOB #01', 'HOURS PER WEEK WORKED JOB #02', 'HOURS PER WEEK WORKED JOB #03', 'HOURS PER WEEK WORKED JOB #04', 'HOURS PER WEEK WORKED JOB #05', 'FAMILY SIZE', 'EMPLOYMENT STATUS RECODE (COLLAPSED)', 'MARITAL STATUS', 'NUMBER OF WEEKS WORKED IN PAST CALENDAR', 'NUMBER OF BIOLOGICAL CHILDREN REPORTED', 'HIGHEST GRADE COMPLETED', 'HOURS PER WEEK WORKED JOB #01', 'HOURS PER WEEK WORKED JOB #02', 'HOURS PER WEEK WORKED JOB #03', 'HOURS PER WEEK WORKED JOB #04', 'HOURS PER WEEK WORKED JOB #05', 'FAMILY SIZE', 'EMPLOYMENT STATUS RECODE (COLLAPSED)', 'MARITAL STATUS', 'NUMBER OF WEEKS WORKED IN PAST CALENDAR', 'NUMBER OF BIOLOGICAL CHILDREN REPORTED', 'HIGHEST GRADE COMPLETED', 'HOURS PER WEEK WORKED JOB #01', 'HOURS PER WEEK WORKED JOB #02', 'HOURS PER WEEK WORKED JOB #03', 'HOURS PER WEEK WORKED JOB #04', 'HOURS PER WEEK WORKED JOB #05', 'FAMILY SIZE', 'EMPLOYMENT STATUS RECODE (COLLAPSED)', 'MARITAL STATUS', 'NUMBER OF WEEKS WORKED IN PAST CALENDAR', 'NUMBER OF BIOLOGICAL CHILDREN REPORTED', 'HIGHEST GRADE COMPLETED', 'HOURS PER WEEK WORKED JOB #01', 'HOURS PER WEEK WORKED JOB #02', 'HOURS PER WEEK WORKED JOB #03', 'HOURS PER WEEK WORKED JOB #04', 'HOURS PER WEEK WORKED JOB #05', 'FAMILY SIZE', 'EMPLOYMENT STATUS RECODE (COLLAPSED)', 'MARITAL STATUS', 'NUMBER OF WEEKS WORKED IN PAST CALENDAR', 'NUMBER OF BIOLOGICAL CHILDREN REPORTED', 'HIGHEST GRADE COMPLETED', 'HOURS PER WEEK WORKED JOB #01', 'HOURS PER WEEK WORKED JOB #02', 'HOURS PER WEEK WORKED JOB #03', 'HOURS PER WEEK WORKED JOB #04', 'HOURS PER WEEK WORKED JOB #05', 'FAMILY SIZE', 'EMPLOYMENT STATUS RECODE (COLLAPSED)', 'MARITAL STATUS', 'NUMBER OF WEEKS WORKED IN PAST CALENDAR', 'NUMBER OF BIOLOGICAL CHILDREN REPORTED', 'FAMILY SIZE', 'EMPLOYMENT STATUS RECODE (COLLAPSED)', 'MARITAL STATUS', 'NUMBER OF WEEKS WORKED IN PAST CALENDAR', 'NUMBER OF BIOLOGICAL CHILDREN REPORTED', 'HIGHEST GRADE COMPLETED', 'HOURS PER WEEK WORKED JOB #01', 'HOURS PER WEEK WORKED JOB #02', 'HOURS PER WEEK WORKED JOB #03', 'HOURS PER WEEK WORKED JOB #04', 'HOURS PER WEEK WORKED JOB #05', \"DURATION OF CURRENT SPOUSE/PARTNER'S MO\", 'HIGHEST GRADE COMPLETED', 'HOURS PER WEEK WORKED JOB #01', 'HOURS PER WEEK WORKED JOB #02', 'HOURS PER WEEK WORKED JOB #03', 'HOURS PER WEEK WORKED JOB #04', 'HOURS PER WEEK WORKED JOB #05', 'FAMILY SIZE', 'EMPLOYMENT STATUS RECODE (COLLAPSED)', 'MARITAL STATUS', 'NUMBER OF WEEKS WORKED IN PAST CALENDAR', 'NUMBER OF BIOLOGICAL CHILDREN REPORTED', \"DURATION OF CURRENT SPOUSE/PARTNER'S MO\", 'HIGHEST GRADE COMPLETED', 'HOURS PER WEEK WORKED JOB #01', 'HOURS PER WEEK WORKED JOB #02', 'HOURS PER WEEK WORKED JOB #03', 'HOURS PER WEEK WORKED JOB #04', 'HOURS PER WEEK WORKED JOB #05', 'NUMBER OF BIOLOGICAL CHILDREN REPORTED', 'FAMILY SIZE', 'MARITAL STATUS', 'NUMBER OF WEEKS WORKED IN PAST CALENDAR', \"DURATION OF CURRENT SPOUSE/PARTNER'S MO\", 'HIGHEST GRADE COMPLETED', 'HOURS PER WEEK WORKED JOB #01', 'HOURS PER WEEK WORKED JOB #02', 'HOURS PER WEEK WORKED JOB #03', 'HOURS PER WEEK WORKED JOB #04', 'HOURS PER WEEK WORKED JOB #05', 'NUMBER OF BIOLOGICAL CHILDREN REPORTED', 'FAMILY SIZE', 'MARITAL STATUS', 'NUMBER OF WEEKS WORKED IN PAST CALENDAR', \"DURATION OF CURRENT SPOUSE/PARTNER'S MO\", 'HIGHEST GRADE COMPLETED', 'HOURS PER WEEK WORKED JOB #01', 'HOURS PER WEEK WORKED JOB #02', 'HOURS PER WEEK WORKED JOB #03', 'HOURS PER WEEK WORKED JOB #04', 'HOURS PER WEEK WORKED JOB #05', 'NUMBER OF BIOLOGICAL CHILDREN REPORTED', 'FAMILY SIZE', 'MARITAL STATUS', 'NUMBER OF WEEKS WORKED IN PAST CALENDAR', \"DURATION OF CURRENT SPOUSE/PARTNER'S MO\", 'HIGHEST GRADE COMPLETED', 'HOURS PER WEEK WORKED JOB #01', 'HOURS PER WEEK WORKED JOB #02', 'HOURS PER WEEK WORKED JOB #03', 'HOURS PER WEEK WORKED JOB #04', 'HOURS PER WEEK WORKED JOB #05', 'NUMBER OF BIOLOGICAL CHILDREN REPORTED', 'FAMILY SIZE', 'EMPLOYMENT STATUS RECODE (COLLAPSED)', 'MARITAL STATUS', 'NUMBER OF WEEKS WORKED IN PAST CALENDAR', \"DURATION OF CURRENT SPOUSE/PARTNER'S MO\", 'HIGHEST GRADE COMPLETED', 'HOURS PER WEEK WORKED JOB #01', 'HOURS PER WEEK WORKED JOB #02', 'HOURS PER WEEK WORKED JOB #03', 'HOURS PER WEEK WORKED JOB #04', 'HOURS PER WEEK WORKED JOB #05', 'NUMBER OF BIOLOGICAL CHILDREN REPORTED', 'FAMILY SIZE', 'MARITAL STATUS', 'NUMBER OF WEEKS WORKED IN PAST CALENDAR', \"DURATION OF CURRENT SPOUSE/PARTNER'S MO\", 'HIGHEST GRADE COMPLETED', 'HOURS PER WEEK WORKED JOB #01', 'HOURS PER WEEK WORKED JOB #02', 'HOURS PER WEEK WORKED JOB #03', 'HOURS PER WEEK WORKED JOB #04', 'HOURS PER WEEK WORKED JOB #05', 'NUMBER OF BIOLOGICAL CHILDREN REPORTED', 'FAMILY SIZE', 'MARITAL STATUS', 'NUMBER OF WEEKS WORKED IN PAST CALENDAR', \"DURATION OF CURRENT SPOUSE/PARTNER'S MO\", 'HIGHEST GRADE COMPLETED', 'HOURS PER WEEK WORKED JOB #01', 'HOURS PER WEEK WORKED JOB #02', 'HOURS PER WEEK WORKED JOB #03', 'HOURS PER WEEK WORKED JOB #04', 'HOURS PER WEEK WORKED JOB #05', 'NUMBER OF BIOLOGICAL CHILDREN REPORTED', 'FAMILY SIZE', 'MARITAL STATUS', 'NUMBER OF WEEKS WORKED IN PAST CALENDAR', \"DURATION OF CURRENT SPOUSE/PARTNER'S MO\", 'HIGHEST GRADE COMPLETED', 'HOURS PER WEEK WORKED JOB #01', 'HOURS PER WEEK WORKED JOB #02', 'HOURS PER WEEK WORKED JOB #03', 'HOURS PER WEEK WORKED JOB #04', 'HOURS PER WEEK WORKED JOB #05', 'NUMBER OF BIOLOGICAL CHILDREN REPORTED', 'FAMILY SIZE', 'MARITAL STATUS', 'NUMBER OF WEEKS WORKED IN PAST CALENDAR', \"DURATION OF CURRENT SPOUSE/PARTNER'S MO\", 'HIGHEST GRADE ATTENDED', 'HIGHEST GRADE COMPLETED', 'HOURS PER WEEK WORKED JOB #01', 'HOURS PER WEEK WORKED JOB #02', 'HOURS PER WEEK WORKED JOB #03', 'HOURS PER WEEK WORKED JOB #04', 'HOURS PER WEEK WORKED JOB #05', 'NUMBER OF BIOLOGICAL CHILDREN REPORTED', 'FAMILY SIZE', 'MARITAL STATUS', 'NUMBER OF WEEKS WORKED IN PAST CALENDAR', 'YEAR OF BIRTH OF MOST RECENT SPOUSE', 'SAMPLE IDENTIFICATION CODE', \"R'S RACIAL/ETHNIC COHORT FROM SCREENER\", 'SEX OF R', 'AGE AT INTERVIEW DATE', 'DATE OF BIRTH OF PARTNER', 'AGE AT INTERVIEW DATE', 'DATE OF BIRTH OF PARTNER', 'AGE AT INTERVIEW DATE', 'DATE OF BIRTH OF PARTNER', 'AGE AT INTERVIEW DATE', 'DATE OF BIRTH OF PARTNER', 'AGE AT INTERVIEW DATE', 'DATE OF BIRTH OF PARTNER', 'AGE AT INTERVIEW DATE', 'DATE OF BIRTH OF PARTNER', 'AGE AT INTERVIEW DATE', 'DATE OF BIRTH OF PARTNER', 'AGE AT INTERVIEW DATE', 'DATE OF BIRTH OF PARTNER', 'AGE AT INTERVIEW DATE', 'DATE OF BIRTH OF PARTNER', 'AGE AT INTERVIEW DATE', 'DATE OF BIRTH OF PARTNER', 'AGE AT INTERVIEW DATE', 'DATE OF BIRTH OF PARTNER', 'AGE AT INTERVIEW DATE', 'DATE OF BIRTH OF PARTNER', 'AGE AT INTERVIEW DATE', 'DATE OF BIRTH OF PARTNER', 'AGE AT INTERVIEW DATE', 'DATE OF BIRTH OF PARTNER', 'AGE AT INTERVIEW DATE', 'DATE OF BIRTH OF PARTNER', 'DATE OF BIRTH OF PARTNER', 'AGE AT INTERVIEW DATE', 'AGE AT INTERVIEW DATE', 'DATE OF BIRTH OF PARTNER', 'DATE OF BIRTH OF PARTNER', 'AGE AT INTERVIEW DATE', 'DATE OF BIRTH OF PARTNER', 'AGE AT INTERVIEW DATE', 'DATE OF BIRTH OF PARTNER', 'AGE AT INTERVIEW DATE', 'DATE OF BIRTH OF PARTNER', 'AGE AT INTERVIEW DATE', 'DATE OF BIRTH OF PARTNER', 'AGE AT INTERVIEW DATE', 'DATE OF BIRTH OF PARTNER', 'AGE AT INTERVIEW DATE', 'DATE OF BIRTH OF PARTNER', 'AGE AT INTERVIEW DATE', 'DATE OF BIRTH OF PARTNER', 'AGE AT INTERVIEW DATE', 'DATE OF BIRTH OF PARTNER', 'AGE AT INTERVIEW', 'DATE OF BIRTH OF PARTNER', 'AGE AT INTERVIEW']\n",
    "used_columns_df = pd.DataFrame({'Reference Number': reference_numbers, 'Year': years, 'Variable Description': variable_descriptions})\n",
    "used_columns_df.sort_values('Variable Description')"
   ]
  },
  {
   "cell_type": "markdown",
   "metadata": {},
   "source": [
    "## 2 Preprocessing"
   ]
  },
  {
   "cell_type": "markdown",
   "metadata": {},
   "source": [
    "Next, run the following scripts:"
   ]
  },
  {
   "cell_type": "markdown",
   "metadata": {},
   "source": [
    "### 2.2 Decode column names (into something intelligible)"
   ]
  },
  {
   "cell_type": "code",
   "execution_count": 48,
   "metadata": {
    "collapsed": true
   },
   "outputs": [
    {
     "name": "stdout",
     "output_type": "stream",
     "text": [
      "1979 --------------------------------\n",
      "13\n"
     ]
    },
    {
     "ename": "KeyError",
     "evalue": "\"None of [Index(['R0017300', 'R0070500', 'R0070600', 'R0070700', 'R0070800', 'R0070900',\\n       'R0214901', 'R0215700', 'R0217501', 'R0217502', 'R0218001', 'R0011500',\\n       'R0216500'],\\n      dtype='object')] are in the [columns]\"",
     "output_type": "error",
     "traceback": [
      "\u001b[1;31m---------------------------------------------------------------------------\u001b[0m",
      "\u001b[1;31mKeyError\u001b[0m                                  Traceback (most recent call last)",
      "\u001b[1;32m<ipython-input-48-ad94d5882d32>\u001b[0m in \u001b[0;36m<module>\u001b[1;34m\u001b[0m\n\u001b[0;32m     28\u001b[0m     \u001b[0mprint\u001b[0m\u001b[1;33m(\u001b[0m\u001b[0mlen\u001b[0m\u001b[1;33m(\u001b[0m\u001b[0mcomumn_codes\u001b[0m\u001b[1;33m)\u001b[0m\u001b[1;33m)\u001b[0m\u001b[1;33m\u001b[0m\u001b[1;33m\u001b[0m\u001b[0m\n\u001b[0;32m     29\u001b[0m \u001b[1;33m\u001b[0m\u001b[0m\n\u001b[1;32m---> 30\u001b[1;33m     \u001b[0mthis_years_columns\u001b[0m \u001b[1;33m=\u001b[0m \u001b[0mnls79_data\u001b[0m\u001b[1;33m[\u001b[0m\u001b[0mcomumn_codes\u001b[0m\u001b[1;33m]\u001b[0m\u001b[1;33m\u001b[0m\u001b[1;33m\u001b[0m\u001b[0m\n\u001b[0m\u001b[0;32m     31\u001b[0m     \u001b[0mthis_years_columns\u001b[0m \u001b[1;33m=\u001b[0m \u001b[0mthis_years_columns\u001b[0m\u001b[1;33m.\u001b[0m\u001b[0mrename\u001b[0m\u001b[1;33m(\u001b[0m\u001b[0mcolumns\u001b[0m\u001b[1;33m=\u001b[0m\u001b[0mrename_dict\u001b[0m\u001b[1;33m)\u001b[0m\u001b[1;33m\u001b[0m\u001b[1;33m\u001b[0m\u001b[0m\n\u001b[0;32m     32\u001b[0m     \u001b[0mthis_years_columns\u001b[0m\u001b[1;33m[\u001b[0m\u001b[1;34m'year'\u001b[0m\u001b[1;33m]\u001b[0m \u001b[1;33m=\u001b[0m \u001b[0myear\u001b[0m\u001b[1;33m\u001b[0m\u001b[1;33m\u001b[0m\u001b[0m\n",
      "\u001b[1;32mc:\\programdata\\miniconda3\\lib\\site-packages\\pandas\\core\\frame.py\u001b[0m in \u001b[0;36m__getitem__\u001b[1;34m(self, key)\u001b[0m\n\u001b[0;32m   2804\u001b[0m             \u001b[1;32mif\u001b[0m \u001b[0mis_iterator\u001b[0m\u001b[1;33m(\u001b[0m\u001b[0mkey\u001b[0m\u001b[1;33m)\u001b[0m\u001b[1;33m:\u001b[0m\u001b[1;33m\u001b[0m\u001b[1;33m\u001b[0m\u001b[0m\n\u001b[0;32m   2805\u001b[0m                 \u001b[0mkey\u001b[0m \u001b[1;33m=\u001b[0m \u001b[0mlist\u001b[0m\u001b[1;33m(\u001b[0m\u001b[0mkey\u001b[0m\u001b[1;33m)\u001b[0m\u001b[1;33m\u001b[0m\u001b[1;33m\u001b[0m\u001b[0m\n\u001b[1;32m-> 2806\u001b[1;33m             \u001b[0mindexer\u001b[0m \u001b[1;33m=\u001b[0m \u001b[0mself\u001b[0m\u001b[1;33m.\u001b[0m\u001b[0mloc\u001b[0m\u001b[1;33m.\u001b[0m\u001b[0m_get_listlike_indexer\u001b[0m\u001b[1;33m(\u001b[0m\u001b[0mkey\u001b[0m\u001b[1;33m,\u001b[0m \u001b[0maxis\u001b[0m\u001b[1;33m=\u001b[0m\u001b[1;36m1\u001b[0m\u001b[1;33m,\u001b[0m \u001b[0mraise_missing\u001b[0m\u001b[1;33m=\u001b[0m\u001b[1;32mTrue\u001b[0m\u001b[1;33m)\u001b[0m\u001b[1;33m[\u001b[0m\u001b[1;36m1\u001b[0m\u001b[1;33m]\u001b[0m\u001b[1;33m\u001b[0m\u001b[1;33m\u001b[0m\u001b[0m\n\u001b[0m\u001b[0;32m   2807\u001b[0m \u001b[1;33m\u001b[0m\u001b[0m\n\u001b[0;32m   2808\u001b[0m         \u001b[1;31m# take() does not accept boolean indexers\u001b[0m\u001b[1;33m\u001b[0m\u001b[1;33m\u001b[0m\u001b[1;33m\u001b[0m\u001b[0m\n",
      "\u001b[1;32mc:\\programdata\\miniconda3\\lib\\site-packages\\pandas\\core\\indexing.py\u001b[0m in \u001b[0;36m_get_listlike_indexer\u001b[1;34m(self, key, axis, raise_missing)\u001b[0m\n\u001b[0;32m   1551\u001b[0m \u001b[1;33m\u001b[0m\u001b[0m\n\u001b[0;32m   1552\u001b[0m         self._validate_read_indexer(\n\u001b[1;32m-> 1553\u001b[1;33m             \u001b[0mkeyarr\u001b[0m\u001b[1;33m,\u001b[0m \u001b[0mindexer\u001b[0m\u001b[1;33m,\u001b[0m \u001b[0mo\u001b[0m\u001b[1;33m.\u001b[0m\u001b[0m_get_axis_number\u001b[0m\u001b[1;33m(\u001b[0m\u001b[0maxis\u001b[0m\u001b[1;33m)\u001b[0m\u001b[1;33m,\u001b[0m \u001b[0mraise_missing\u001b[0m\u001b[1;33m=\u001b[0m\u001b[0mraise_missing\u001b[0m\u001b[1;33m\u001b[0m\u001b[1;33m\u001b[0m\u001b[0m\n\u001b[0m\u001b[0;32m   1554\u001b[0m         )\n\u001b[0;32m   1555\u001b[0m         \u001b[1;32mreturn\u001b[0m \u001b[0mkeyarr\u001b[0m\u001b[1;33m,\u001b[0m \u001b[0mindexer\u001b[0m\u001b[1;33m\u001b[0m\u001b[1;33m\u001b[0m\u001b[0m\n",
      "\u001b[1;32mc:\\programdata\\miniconda3\\lib\\site-packages\\pandas\\core\\indexing.py\u001b[0m in \u001b[0;36m_validate_read_indexer\u001b[1;34m(self, key, indexer, axis, raise_missing)\u001b[0m\n\u001b[0;32m   1638\u001b[0m             \u001b[1;32mif\u001b[0m \u001b[0mmissing\u001b[0m \u001b[1;33m==\u001b[0m \u001b[0mlen\u001b[0m\u001b[1;33m(\u001b[0m\u001b[0mindexer\u001b[0m\u001b[1;33m)\u001b[0m\u001b[1;33m:\u001b[0m\u001b[1;33m\u001b[0m\u001b[1;33m\u001b[0m\u001b[0m\n\u001b[0;32m   1639\u001b[0m                 \u001b[0maxis_name\u001b[0m \u001b[1;33m=\u001b[0m \u001b[0mself\u001b[0m\u001b[1;33m.\u001b[0m\u001b[0mobj\u001b[0m\u001b[1;33m.\u001b[0m\u001b[0m_get_axis_name\u001b[0m\u001b[1;33m(\u001b[0m\u001b[0maxis\u001b[0m\u001b[1;33m)\u001b[0m\u001b[1;33m\u001b[0m\u001b[1;33m\u001b[0m\u001b[0m\n\u001b[1;32m-> 1640\u001b[1;33m                 \u001b[1;32mraise\u001b[0m \u001b[0mKeyError\u001b[0m\u001b[1;33m(\u001b[0m\u001b[1;34mf\"None of [{key}] are in the [{axis_name}]\"\u001b[0m\u001b[1;33m)\u001b[0m\u001b[1;33m\u001b[0m\u001b[1;33m\u001b[0m\u001b[0m\n\u001b[0m\u001b[0;32m   1641\u001b[0m \u001b[1;33m\u001b[0m\u001b[0m\n\u001b[0;32m   1642\u001b[0m             \u001b[1;31m# We (temporarily) allow for some missing keys with .loc, except in\u001b[0m\u001b[1;33m\u001b[0m\u001b[1;33m\u001b[0m\u001b[1;33m\u001b[0m\u001b[0m\n",
      "\u001b[1;31mKeyError\u001b[0m: \"None of [Index(['R0017300', 'R0070500', 'R0070600', 'R0070700', 'R0070800', 'R0070900',\\n       'R0214901', 'R0215700', 'R0217501', 'R0217502', 'R0218001', 'R0011500',\\n       'R0216500'],\\n      dtype='object')] are in the [columns]\""
     ]
    }
   ],
   "source": [
    "# prepare column_names_df\n",
    "with open(\"data/default.sdf\") as f:\n",
    "    sdf_lines = f.readlines()\n",
    "reference_numbers = []\n",
    "years = []\n",
    "variable_descriptions = []\n",
    "for line in sdf_lines[6:]:\n",
    "    reference_numbers.append(line[:9].replace('.',''))\n",
    "    years.append(line[11:19].strip())\n",
    "    variable_descriptions.append(line[19:59].strip())\n",
    "    \n",
    "column_names_df = pd.DataFrame({'Number': reference_numbers,'Year': years,'Variable Description':variable_descriptions})\n",
    "nls79_data = pd.read_csv(\"data/default.csv\")    \n",
    "\n",
    "rename_dict = {number:year for number, year in zip(list(column_names_df['Number']), list(column_names_df['Variable Description']))}\n",
    "\n",
    "# constant_columns \n",
    "identification_code = nls79_data['R0000100']\n",
    "sample_identification_code = nls79_data['R0173600']\n",
    "sex_of_r = nls79_data['R0214800']\n",
    "nls79_data.drop(['R0000100','R0173600','R0214800'], axis=1)\n",
    "column_names = column_names[~column_names['Number'].isin(['R0000100','R0173600','R0214800'])]\n",
    "\n",
    "all_years_df = pd.DataFrame()\n",
    "for year in ['1979', '1980', '1981', '1982', '1983', '1984', '1985', '1986', '1987', '1988', '1989', '1990', '1991', '1992', '1993', '1994', '1996', '1998', '2000', '2002', '2004', '2006', '2008', '2010', '2012', '2014', '2016']:\n",
    "    comumn_codes = list(column_names.loc[column_names['Year']==year, 'Number'])\n",
    "    print(str(year) + ' --------------------------------')\n",
    "    print(len(comumn_codes))\n",
    "\n",
    "    this_years_columns = nls79_data[comumn_codes]\n",
    "    this_years_columns = this_years_columns.rename(columns=rename_dict)\n",
    "    this_years_columns['year'] = year\n",
    "    this_years_columns['IDENTIFICATION CODE'] = identification_code\n",
    "    this_years_columns['SAMPLE IDENTIFICATION CODE'] = sample_identification_code\n",
    "    this_years_columns['SEX OF R'] = sex_of_r \n",
    "    this_years_columns = this_years_columns.loc[:,~this_years_columns.columns.duplicated()]\n",
    "    print(len(this_years_columns.columns))\n",
    "    \n",
    "    all_years_df = pd.concat([all_years_df,this_years_columns])\n",
    "    print(len(all_years_df.columns))"
   ]
  },
  {
   "cell_type": "markdown",
   "metadata": {},
   "source": [
    "### 2.2 Decode data values"
   ]
  },
  {
   "cell_type": "code",
   "execution_count": 23,
   "metadata": {},
   "outputs": [],
   "source": [
    "# hours worked per week\n",
    "all_years_df.loc[all_years_df['HOURS PER WEEK WORKED JOB #01'] < 0, 'HOURS PER WEEK WORKED JOB #01'] = 0\n",
    "all_years_df.loc[all_years_df['HOURS PER WEEK WORKED JOB #02'] < 0, 'HOURS PER WEEK WORKED JOB #02'] = 0\n",
    "all_years_df.loc[all_years_df['HOURS PER WEEK WORKED JOB #03'] < 0, 'HOURS PER WEEK WORKED JOB #03'] = 0\n",
    "all_years_df.loc[all_years_df['HOURS PER WEEK WORKED JOB #04'] < 0, 'HOURS PER WEEK WORKED JOB #04'] = 0\n",
    "all_years_df.loc[all_years_df['HOURS PER WEEK WORKED JOB #05'] < 0, 'HOURS PER WEEK WORKED JOB #05'] = 0\n",
    "all_years_df['hours worked per week'] = all_years_df['HOURS PER WEEK WORKED JOB #01'] + all_years_df['HOURS PER WEEK WORKED JOB #02'] + all_years_df['HOURS PER WEEK WORKED JOB #03'] + all_years_df['HOURS PER WEEK WORKED JOB #04'] + all_years_df['HOURS PER WEEK WORKED JOB #05']\n",
    "\n",
    "# HIGHEST GRADE COMPLETED\n",
    "all_years_df.loc[all_years_df['HIGHEST GRADE COMPLETED']< 0, 'HIGHEST GRADE COMPLETED'] = np.nan\n",
    "all_years_df.loc[all_years_df['HIGHEST GRADE COMPLETED'].isin([0]), 'HIGHEST GRADE COMPLETED'] = 'None'\n",
    "all_years_df.loc[all_years_df['HIGHEST GRADE COMPLETED'].isin([1, 2, 3, 4]), 'HIGHEST GRADE COMPLETED'] = 'Kindergarten'\n",
    "all_years_df.loc[all_years_df['HIGHEST GRADE COMPLETED'].isin([5, 6, 7]), 'HIGHEST GRADE COMPLETED'] = 'Primary school'\n",
    "all_years_df.loc[all_years_df['HIGHEST GRADE COMPLETED'].isin([8, 9, 10, 11]), 'HIGHEST GRADE COMPLETED'] = 'Middle school'\n",
    "all_years_df.loc[all_years_df['HIGHEST GRADE COMPLETED'].isin([12, 13, 14]), 'HIGHEST GRADE COMPLETED'] = 'High school'\n",
    "all_years_df.loc[all_years_df['HIGHEST GRADE COMPLETED'].isin([15, 16]), 'HIGHEST GRADE COMPLETED'] = 'Bachelor\\'s degree'\n",
    "all_years_df.loc[all_years_df['HIGHEST GRADE COMPLETED'].isin([17, 18, 19]), 'HIGHEST GRADE COMPLETED'] = 'Master\\'s degree'\n",
    "all_years_df.loc[all_years_df['HIGHEST GRADE COMPLETED'].isin([20, 95]), 'HIGHEST GRADE COMPLETED'] = 'Doctorate degree'\n",
    "\n",
    "# EMPLOYMENT STATUS RECODE (COLLAPSED)\n",
    "all_years_df.loc[all_years_df['EMPLOYMENT STATUS RECODE (COLLAPSED)']<= 0, 'EMPLOYMENT STATUS RECODE (COLLAPSED)'] = np.nan\n",
    "all_years_df.loc[all_years_df['EMPLOYMENT STATUS RECODE (COLLAPSED)'].isin([1,4]), 'EMPLOYMENT STATUS RECODE (COLLAPSED)'] = 'Employed'\n",
    "all_years_df.loc[all_years_df['EMPLOYMENT STATUS RECODE (COLLAPSED)'].isin([2]), 'EMPLOYMENT STATUS RECODE (COLLAPSED)'] = 'Unemployed'\n",
    "all_years_df.loc[all_years_df['EMPLOYMENT STATUS RECODE (COLLAPSED)'].isin([3]), 'EMPLOYMENT STATUS RECODE (COLLAPSED)'] = 'Not in labor force'\n",
    "\n",
    "\n",
    "# MARITAL STATUS\n",
    "all_years_df.loc[all_years_df['MARITAL STATUS']<= 0, 'MARITAL STATUS'] = np.nan\n",
    "all_years_df.loc[all_years_df['MARITAL STATUS'].isin([0]), 'MARITAL STATUS'] = 'Single'\n",
    "all_years_df.loc[all_years_df['MARITAL STATUS'].isin([1,2]), 'MARITAL STATUS'] = 'Married'\n",
    "all_years_df.loc[all_years_df['MARITAL STATUS'].isin([3]), 'MARITAL STATUS'] = 'Divorced'\n",
    "all_years_df.loc[all_years_df['MARITAL STATUS'].isin([6]), 'MARITAL STATUS'] = 'Widowed'\n",
    "\n",
    "# FAMILY SIZE\n",
    "all_years_df.loc[all_years_df['FAMILY SIZE']<= 0, 'FAMILY SIZE'] = np.nan\n",
    "\n",
    "# NUMBER OF BIOLOGICAL CHILDREN REPORTED\n",
    "all_years_df.loc[all_years_df['NUMBER OF BIOLOGICAL CHILDREN REPORTED']<= 0, 'NUMBER OF BIOLOGICAL CHILDREN REPORTED'] = np.nan\n",
    "\n",
    "# AGE AT INTERVIEW DATE\n",
    "all_years_df.loc[all_years_df['AGE AT INTERVIEW DATE']<= 0, 'AGE AT INTERVIEW DATE'] = np.nan\n",
    "\n",
    "# SEX OF R\n",
    "all_years_df.loc[all_years_df['SEX OF R']<= 0, 'SEX OF R'] = None\n",
    "all_years_df.loc[all_years_df['SEX OF R']== 1, 'SEX OF R'] = \"Male\"\n",
    "all_years_df.loc[all_years_df['SEX OF R']==2, 'SEX OF R'] = \"Female\"\n",
    "\n",
    "# AGE AT INTERVIEW\n",
    "all_years_df.loc[all_years_df['AGE AT INTERVIEW']<= 0, 'AGE AT INTERVIEW'] = np.nan\n",
    "\n",
    "all_years_df.to_csv(\"data/national_longitudinal_survey_of_youth_1979.csv\")"
   ]
  },
  {
   "cell_type": "markdown",
   "metadata": {},
   "source": [
    "### create table 'spouse_data.csv'"
   ]
  },
  {
   "cell_type": "code",
   "execution_count": 28,
   "metadata": {
    "scrolled": true
   },
   "outputs": [],
   "source": [
    "all_years_df['National Longitudinal Survey Spouse ID'] = range(len(all_years_df))\n",
    "all_years_df[['YEAR OF BIRTH OF MOST RECENT SPOUSE', 'DATE OF BIRTH OF PARTNER']]\n",
    "all_years_df['Birthyear of Partner'] = all_years_df['YEAR OF BIRTH OF MOST RECENT SPOUSE'].combine_first(all_years_df['DATE OF BIRTH OF PARTNER'])\n",
    "all_years_df.loc[all_years_df['Birthyear of Partner']<= 0, 'Birthyear of Partner'] = np.nan\n",
    "all_years_df.loc[all_years_df['Birthyear of Partner']> 0, 'Birthyear of Partner'] = all_years_df.loc[all_years_df['Birthyear of Partner']> 0, 'Birthyear of Partner'] + 1900\n",
    "\n",
    "all_years_df['year'] = all_years_df['year'].astype(int)\n",
    "all_years_df['Age of Partner'] = all_years_df['year'] - all_years_df['Birthyear of Partner']\n",
    "\n",
    "\n",
    "spouse_data = all_years_df[['Age of Partner', 'year', 'IDENTIFICATION CODE']]\n",
    "spouse_data.to_csv(\"data/spouse_data.csv\")"
   ]
  },
  {
   "cell_type": "code",
   "execution_count": null,
   "metadata": {},
   "outputs": [],
   "source": []
  },
  {
   "cell_type": "code",
   "execution_count": null,
   "metadata": {},
   "outputs": [],
   "source": []
  },
  {
   "cell_type": "code",
   "execution_count": null,
   "metadata": {},
   "outputs": [],
   "source": []
  },
  {
   "cell_type": "code",
   "execution_count": null,
   "metadata": {},
   "outputs": [],
   "source": []
  },
  {
   "cell_type": "markdown",
   "metadata": {},
   "source": [
    "### Kinder"
   ]
  },
  {
   "cell_type": "code",
   "execution_count": 31,
   "metadata": {
    "collapsed": true
   },
   "outputs": [
    {
     "ename": "TypeError",
     "evalue": "'<' not supported between instances of 'str' and 'int'",
     "output_type": "error",
     "traceback": [
      "\u001b[1;31m---------------------------------------------------------------------------\u001b[0m",
      "\u001b[1;31mTypeError\u001b[0m                                 Traceback (most recent call last)",
      "\u001b[1;32m<ipython-input-31-f1c4851bb124>\u001b[0m in \u001b[0;36m<module>\u001b[1;34m\u001b[0m\n\u001b[0;32m     17\u001b[0m \u001b[0mall_years_df\u001b[0m\u001b[1;33m[\u001b[0m\u001b[1;34m'verheiratet'\u001b[0m\u001b[1;33m]\u001b[0m \u001b[1;33m=\u001b[0m \u001b[1;36m0\u001b[0m\u001b[1;33m\u001b[0m\u001b[1;33m\u001b[0m\u001b[0m\n\u001b[0;32m     18\u001b[0m \u001b[0mall_years_df\u001b[0m\u001b[1;33m.\u001b[0m\u001b[0mloc\u001b[0m\u001b[1;33m[\u001b[0m\u001b[0mall_years_df\u001b[0m\u001b[1;33m[\u001b[0m\u001b[1;34m'MARITAL STATUS'\u001b[0m\u001b[1;33m]\u001b[0m\u001b[1;33m==\u001b[0m\u001b[1;36m1\u001b[0m\u001b[1;33m,\u001b[0m\u001b[1;34m'verheiratet'\u001b[0m\u001b[1;33m]\u001b[0m \u001b[1;33m=\u001b[0m \u001b[1;36m1\u001b[0m\u001b[1;33m\u001b[0m\u001b[1;33m\u001b[0m\u001b[0m\n\u001b[1;32m---> 19\u001b[1;33m \u001b[0mall_years_df\u001b[0m\u001b[1;33m.\u001b[0m\u001b[0mloc\u001b[0m\u001b[1;33m[\u001b[0m\u001b[0mall_years_df\u001b[0m\u001b[1;33m[\u001b[0m\u001b[1;34m'MARITAL STATUS'\u001b[0m\u001b[1;33m]\u001b[0m \u001b[1;33m<\u001b[0m \u001b[1;36m0\u001b[0m\u001b[1;33m,\u001b[0m\u001b[1;34m'verheiratet'\u001b[0m\u001b[1;33m]\u001b[0m \u001b[1;33m=\u001b[0m \u001b[1;32mNone\u001b[0m\u001b[1;33m\u001b[0m\u001b[1;33m\u001b[0m\u001b[0m\n\u001b[0m\u001b[0;32m     20\u001b[0m \u001b[1;33m\u001b[0m\u001b[0m\n\u001b[0;32m     21\u001b[0m \u001b[1;31m# Alter\u001b[0m\u001b[1;33m\u001b[0m\u001b[1;33m\u001b[0m\u001b[1;33m\u001b[0m\u001b[0m\n",
      "\u001b[1;32mc:\\programdata\\miniconda3\\lib\\site-packages\\pandas\\core\\ops\\common.py\u001b[0m in \u001b[0;36mnew_method\u001b[1;34m(self, other)\u001b[0m\n\u001b[0;32m     62\u001b[0m         \u001b[0mother\u001b[0m \u001b[1;33m=\u001b[0m \u001b[0mitem_from_zerodim\u001b[0m\u001b[1;33m(\u001b[0m\u001b[0mother\u001b[0m\u001b[1;33m)\u001b[0m\u001b[1;33m\u001b[0m\u001b[1;33m\u001b[0m\u001b[0m\n\u001b[0;32m     63\u001b[0m \u001b[1;33m\u001b[0m\u001b[0m\n\u001b[1;32m---> 64\u001b[1;33m         \u001b[1;32mreturn\u001b[0m \u001b[0mmethod\u001b[0m\u001b[1;33m(\u001b[0m\u001b[0mself\u001b[0m\u001b[1;33m,\u001b[0m \u001b[0mother\u001b[0m\u001b[1;33m)\u001b[0m\u001b[1;33m\u001b[0m\u001b[1;33m\u001b[0m\u001b[0m\n\u001b[0m\u001b[0;32m     65\u001b[0m \u001b[1;33m\u001b[0m\u001b[0m\n\u001b[0;32m     66\u001b[0m     \u001b[1;32mreturn\u001b[0m \u001b[0mnew_method\u001b[0m\u001b[1;33m\u001b[0m\u001b[1;33m\u001b[0m\u001b[0m\n",
      "\u001b[1;32mc:\\programdata\\miniconda3\\lib\\site-packages\\pandas\\core\\ops\\__init__.py\u001b[0m in \u001b[0;36mwrapper\u001b[1;34m(self, other)\u001b[0m\n\u001b[0;32m    527\u001b[0m         \u001b[0mrvalues\u001b[0m \u001b[1;33m=\u001b[0m \u001b[0mextract_array\u001b[0m\u001b[1;33m(\u001b[0m\u001b[0mother\u001b[0m\u001b[1;33m,\u001b[0m \u001b[0mextract_numpy\u001b[0m\u001b[1;33m=\u001b[0m\u001b[1;32mTrue\u001b[0m\u001b[1;33m)\u001b[0m\u001b[1;33m\u001b[0m\u001b[1;33m\u001b[0m\u001b[0m\n\u001b[0;32m    528\u001b[0m \u001b[1;33m\u001b[0m\u001b[0m\n\u001b[1;32m--> 529\u001b[1;33m         \u001b[0mres_values\u001b[0m \u001b[1;33m=\u001b[0m \u001b[0mcomparison_op\u001b[0m\u001b[1;33m(\u001b[0m\u001b[0mlvalues\u001b[0m\u001b[1;33m,\u001b[0m \u001b[0mrvalues\u001b[0m\u001b[1;33m,\u001b[0m \u001b[0mop\u001b[0m\u001b[1;33m)\u001b[0m\u001b[1;33m\u001b[0m\u001b[1;33m\u001b[0m\u001b[0m\n\u001b[0m\u001b[0;32m    530\u001b[0m \u001b[1;33m\u001b[0m\u001b[0m\n\u001b[0;32m    531\u001b[0m         \u001b[1;32mreturn\u001b[0m \u001b[0m_construct_result\u001b[0m\u001b[1;33m(\u001b[0m\u001b[0mself\u001b[0m\u001b[1;33m,\u001b[0m \u001b[0mres_values\u001b[0m\u001b[1;33m,\u001b[0m \u001b[0mindex\u001b[0m\u001b[1;33m=\u001b[0m\u001b[0mself\u001b[0m\u001b[1;33m.\u001b[0m\u001b[0mindex\u001b[0m\u001b[1;33m,\u001b[0m \u001b[0mname\u001b[0m\u001b[1;33m=\u001b[0m\u001b[0mres_name\u001b[0m\u001b[1;33m)\u001b[0m\u001b[1;33m\u001b[0m\u001b[1;33m\u001b[0m\u001b[0m\n",
      "\u001b[1;32mc:\\programdata\\miniconda3\\lib\\site-packages\\pandas\\core\\ops\\array_ops.py\u001b[0m in \u001b[0;36mcomparison_op\u001b[1;34m(left, right, op)\u001b[0m\n\u001b[0;32m    245\u001b[0m \u001b[1;33m\u001b[0m\u001b[0m\n\u001b[0;32m    246\u001b[0m     \u001b[1;32melif\u001b[0m \u001b[0mis_object_dtype\u001b[0m\u001b[1;33m(\u001b[0m\u001b[0mlvalues\u001b[0m\u001b[1;33m.\u001b[0m\u001b[0mdtype\u001b[0m\u001b[1;33m)\u001b[0m\u001b[1;33m:\u001b[0m\u001b[1;33m\u001b[0m\u001b[1;33m\u001b[0m\u001b[0m\n\u001b[1;32m--> 247\u001b[1;33m         \u001b[0mres_values\u001b[0m \u001b[1;33m=\u001b[0m \u001b[0mcomp_method_OBJECT_ARRAY\u001b[0m\u001b[1;33m(\u001b[0m\u001b[0mop\u001b[0m\u001b[1;33m,\u001b[0m \u001b[0mlvalues\u001b[0m\u001b[1;33m,\u001b[0m \u001b[0mrvalues\u001b[0m\u001b[1;33m)\u001b[0m\u001b[1;33m\u001b[0m\u001b[1;33m\u001b[0m\u001b[0m\n\u001b[0m\u001b[0;32m    248\u001b[0m \u001b[1;33m\u001b[0m\u001b[0m\n\u001b[0;32m    249\u001b[0m     \u001b[1;32melse\u001b[0m\u001b[1;33m:\u001b[0m\u001b[1;33m\u001b[0m\u001b[1;33m\u001b[0m\u001b[0m\n",
      "\u001b[1;32mc:\\programdata\\miniconda3\\lib\\site-packages\\pandas\\core\\ops\\array_ops.py\u001b[0m in \u001b[0;36mcomp_method_OBJECT_ARRAY\u001b[1;34m(op, x, y)\u001b[0m\n\u001b[0;32m     55\u001b[0m         \u001b[0mresult\u001b[0m \u001b[1;33m=\u001b[0m \u001b[0mlibops\u001b[0m\u001b[1;33m.\u001b[0m\u001b[0mvec_compare\u001b[0m\u001b[1;33m(\u001b[0m\u001b[0mx\u001b[0m\u001b[1;33m.\u001b[0m\u001b[0mravel\u001b[0m\u001b[1;33m(\u001b[0m\u001b[1;33m)\u001b[0m\u001b[1;33m,\u001b[0m \u001b[0my\u001b[0m\u001b[1;33m,\u001b[0m \u001b[0mop\u001b[0m\u001b[1;33m)\u001b[0m\u001b[1;33m\u001b[0m\u001b[1;33m\u001b[0m\u001b[0m\n\u001b[0;32m     56\u001b[0m     \u001b[1;32melse\u001b[0m\u001b[1;33m:\u001b[0m\u001b[1;33m\u001b[0m\u001b[1;33m\u001b[0m\u001b[0m\n\u001b[1;32m---> 57\u001b[1;33m         \u001b[0mresult\u001b[0m \u001b[1;33m=\u001b[0m \u001b[0mlibops\u001b[0m\u001b[1;33m.\u001b[0m\u001b[0mscalar_compare\u001b[0m\u001b[1;33m(\u001b[0m\u001b[0mx\u001b[0m\u001b[1;33m.\u001b[0m\u001b[0mravel\u001b[0m\u001b[1;33m(\u001b[0m\u001b[1;33m)\u001b[0m\u001b[1;33m,\u001b[0m \u001b[0my\u001b[0m\u001b[1;33m,\u001b[0m \u001b[0mop\u001b[0m\u001b[1;33m)\u001b[0m\u001b[1;33m\u001b[0m\u001b[1;33m\u001b[0m\u001b[0m\n\u001b[0m\u001b[0;32m     58\u001b[0m     \u001b[1;32mreturn\u001b[0m \u001b[0mresult\u001b[0m\u001b[1;33m.\u001b[0m\u001b[0mreshape\u001b[0m\u001b[1;33m(\u001b[0m\u001b[0mx\u001b[0m\u001b[1;33m.\u001b[0m\u001b[0mshape\u001b[0m\u001b[1;33m)\u001b[0m\u001b[1;33m\u001b[0m\u001b[1;33m\u001b[0m\u001b[0m\n\u001b[0;32m     59\u001b[0m \u001b[1;33m\u001b[0m\u001b[0m\n",
      "\u001b[1;32mpandas\\_libs\\ops.pyx\u001b[0m in \u001b[0;36mpandas._libs.ops.scalar_compare\u001b[1;34m()\u001b[0m\n",
      "\u001b[1;31mTypeError\u001b[0m: '<' not supported between instances of 'str' and 'int'"
     ]
    }
   ],
   "source": [
    "# schon 1 Kind\n",
    "all_years_df['schon 1 Kind'] = 0\n",
    "all_years_df.loc[all_years_df['NUMBER OF BIOLOGICAL CHILDREN REPORTED']==1,'schon 1 Kind'] = 1\n",
    "all_years_df.loc[all_years_df['NUMBER OF BIOLOGICAL CHILDREN REPORTED'] < 0,'schon 1 Kind'] = None\n",
    "\n",
    "# schon 2 Kinder\n",
    "all_years_df['schon 2 Kinder'] = 0\n",
    "all_years_df.loc[all_years_df['NUMBER OF BIOLOGICAL CHILDREN REPORTED']==2,'schon 2 Kinder'] = 1\n",
    "all_years_df.loc[all_years_df['NUMBER OF BIOLOGICAL CHILDREN REPORTED'] < 0,'schon 2 Kinder'] = None\n",
    "\n",
    "# schon mehr als 2 Kinder\n",
    "all_years_df['schon mehr als 2 Kinder'] = 0\n",
    "all_years_df.loc[all_years_df['NUMBER OF BIOLOGICAL CHILDREN REPORTED']>2,'schon mehr als 2 Kinder'] = 1\n",
    "all_years_df.loc[all_years_df['NUMBER OF BIOLOGICAL CHILDREN REPORTED'] < 0,'schon mehr als 2 Kinder'] = None\n",
    "\n",
    "# verheiratet\n",
    "all_years_df['verheiratet'] = 0\n",
    "all_years_df.loc[all_years_df['MARITAL STATUS']==1,'verheiratet'] = 1\n",
    "all_years_df.loc[all_years_df['MARITAL STATUS'] < 0,'verheiratet'] = None\n",
    "\n",
    "# Alter\n",
    "all_years_df['Alter'] = None\n",
    "all_years_df.loc[all_years_df['AGE AT INTERVIEW']>0,'Alter'] = all_years_df.loc[all_years_df['AGE AT INTERVIEW']>0,'AGE AT INTERVIEW']"
   ]
  },
  {
   "cell_type": "code",
   "execution_count": null,
   "metadata": {},
   "outputs": [],
   "source": []
  },
  {
   "cell_type": "code",
   "execution_count": null,
   "metadata": {},
   "outputs": [],
   "source": []
  }
 ],
 "metadata": {
  "kernelspec": {
   "display_name": "Python 3",
   "language": "python",
   "name": "python3"
  },
  "language_info": {
   "codemirror_mode": {
    "name": "ipython",
    "version": 3
   },
   "file_extension": ".py",
   "mimetype": "text/x-python",
   "name": "python",
   "nbconvert_exporter": "python",
   "pygments_lexer": "ipython3",
   "version": "3.7.1"
  }
 },
 "nbformat": 4,
 "nbformat_minor": 2
}
