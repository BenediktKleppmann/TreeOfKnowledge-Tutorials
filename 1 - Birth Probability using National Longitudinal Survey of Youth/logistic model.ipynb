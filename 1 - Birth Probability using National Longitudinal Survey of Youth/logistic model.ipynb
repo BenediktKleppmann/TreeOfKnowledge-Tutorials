{
 "cells": [
  {
   "cell_type": "code",
   "execution_count": 62,
   "metadata": {},
   "outputs": [],
   "source": [
    "import pandas as pd\n",
    "import numpy as np\n",
    "import math"
   ]
  },
  {
   "cell_type": "code",
   "execution_count": 79,
   "metadata": {
    "scrolled": true
   },
   "outputs": [
    {
     "name": "stderr",
     "output_type": "stream",
     "text": [
      "c:\\programdata\\miniconda3\\lib\\site-packages\\IPython\\core\\interactiveshell.py:3049: DtypeWarning: Columns (8) have mixed types.Specify dtype option on import or set low_memory=False.\n",
      "  interactivity=interactivity, compiler=compiler, result=result)\n"
     ]
    }
   ],
   "source": [
    "nls_df = pd.read_csv('national_longitudinal_survey_of_youth_1979.csv')\n",
    "\n",
    "# preprocessing\n",
    "nls_df = nls_df.drop(columns=['Unnamed: 0', 'Unnamed: 0.1'])\n",
    "nls_df.loc[nls_df['SEX OF R']<= 0, 'SEX OF R'] = None\n",
    "nls_df.loc[nls_df['SEX OF R']== 1, 'SEX OF R'] = \"Male\"\n",
    "nls_df.loc[nls_df['SEX OF R']==2, 'SEX OF R'] = \"Female\"\n",
    "\n",
    "# preselection \n",
    "nls_df = nls_df[nls_df['SEX OF R']==\"Female\"]  #we're only interested in the women (because they're the ones giving birth)"
   ]
  },
  {
   "cell_type": "code",
   "execution_count": 96,
   "metadata": {
    "collapsed": true
   },
   "outputs": [
    {
     "name": "stdout",
     "output_type": "stream",
     "text": [
      "0\n",
      "1000\n",
      "2000\n",
      "3000\n",
      "4000\n",
      "5000\n",
      "6000\n",
      "7000\n",
      "8000\n",
      "9000\n",
      "10000\n",
      "11000\n",
      "12000\n",
      "13000\n",
      "14000\n",
      "15000\n",
      "16000\n",
      "17000\n",
      "18000\n",
      "19000\n",
      "20000\n",
      "21000\n",
      "22000\n",
      "23000\n",
      "24000\n",
      "25000\n",
      "26000\n",
      "27000\n",
      "28000\n",
      "29000\n",
      "30000\n",
      "31000\n",
      "32000\n",
      "33000\n",
      "34000\n",
      "35000\n",
      "36000\n",
      "37000\n",
      "38000\n",
      "39000\n",
      "40000\n",
      "41000\n",
      "42000\n",
      "43000\n",
      "44000\n",
      "45000\n",
      "46000\n",
      "47000\n",
      "48000\n",
      "49000\n",
      "50000\n",
      "51000\n",
      "52000\n",
      "53000\n",
      "54000\n",
      "55000\n",
      "56000\n",
      "57000\n",
      "58000\n",
      "59000\n",
      "60000\n",
      "61000\n",
      "62000\n",
      "63000\n",
      "64000\n",
      "65000\n",
      "66000\n",
      "67000\n",
      "68000\n",
      "69000\n",
      "70000\n",
      "71000\n",
      "72000\n",
      "73000\n",
      "74000\n",
      "75000\n",
      "76000\n",
      "77000\n",
      "78000\n",
      "79000\n",
      "80000\n",
      "81000\n",
      "82000\n",
      "83000\n",
      "84000\n",
      "85000\n",
      "86000\n",
      "87000\n",
      "88000\n",
      "89000\n",
      "90000\n",
      "91000\n",
      "92000\n",
      "93000\n",
      "94000\n",
      "95000\n",
      "96000\n",
      "97000\n",
      "98000\n",
      "99000\n",
      "100000\n",
      "101000\n",
      "102000\n",
      "103000\n",
      "104000\n",
      "105000\n",
      "106000\n",
      "107000\n",
      "108000\n",
      "109000\n",
      "110000\n",
      "111000\n",
      "112000\n",
      "113000\n",
      "114000\n",
      "115000\n",
      "116000\n",
      "117000\n",
      "118000\n",
      "119000\n",
      "120000\n",
      "121000\n",
      "122000\n",
      "123000\n",
      "124000\n",
      "125000\n",
      "126000\n",
      "127000\n",
      "128000\n",
      "129000\n",
      "130000\n",
      "131000\n",
      "132000\n",
      "133000\n",
      "134000\n",
      "135000\n",
      "136000\n",
      "137000\n",
      "138000\n",
      "139000\n",
      "140000\n",
      "141000\n",
      "142000\n",
      "143000\n",
      "144000\n",
      "145000\n",
      "146000\n",
      "147000\n",
      "148000\n",
      "149000\n",
      "150000\n",
      "151000\n",
      "152000\n",
      "153000\n",
      "154000\n",
      "155000\n",
      "156000\n",
      "157000\n",
      "158000\n",
      "159000\n",
      "160000\n",
      "161000\n",
      "162000\n",
      "163000\n",
      "164000\n",
      "165000\n",
      "166000\n",
      "167000\n",
      "168000\n",
      "169000\n"
     ]
    }
   ],
   "source": [
    "# populate column gave_birth_to_child\n",
    "# also: interpolation for NUMBER OF BIOLOGICAL CHILDREN REPORTED\n",
    "\n",
    "nls_df['gave_birth_to_child'] = 0\n",
    "nls_df = nls_df.sort_values(['IDENTIFICATION CODE','year'])\n",
    "nls_df.index = range(len(nls_df))\n",
    "previous_number_of_children = {id_code: np.nan for id_code in  list(nls_df['IDENTIFICATION CODE'].unique())}\n",
    "\n",
    "\n",
    "for index, row in nls_df.iterrows():\n",
    "    if index%1000 ==0:\n",
    "        print(index)\n",
    "    id_code = row['IDENTIFICATION CODE']\n",
    "    if math.isnan(row['NUMBER OF BIOLOGICAL CHILDREN REPORTED']):\n",
    "        nls_df.loc[index,'NUMBER OF BIOLOGICAL CHILDREN REPORTED'] = previous_number_of_children[id_code]\n",
    "    else:\n",
    "        nls_df.loc[index,'gave_birth_to_child'] = row['NUMBER OF BIOLOGICAL CHILDREN REPORTED'] - previous_number_of_children[id_code]\n",
    "        previous_number_of_children[id_code] = row['NUMBER OF BIOLOGICAL CHILDREN REPORTED']\n",
    "        \n",
    "# let's only accept values that are 0 or 1 (this is the majority - see next row)        \n",
    "# nls_df.groupby('gave_birth_to_child').aggregate({'gave_birth_to_child':'first','IDENTIFICATION CODE':'count'})\n",
    "nls_df.loc[~nls_df['gave_birth_to_child'].isin([0,1]),'gave_birth_to_child'] = 0"
   ]
  },
  {
   "cell_type": "code",
   "execution_count": 124,
   "metadata": {},
   "outputs": [],
   "source": [
    "# remove entries with missing values\n",
    "nls_df = nls_df[~nls_df['NUMBER OF BIOLOGICAL CHILDREN REPORTED'].isna()]\n",
    "nls_df = nls_df[~nls_df['MARITAL STATUS'].isna()]\n",
    "nls_df = nls_df[~nls_df['AGE AT INTERVIEW DATE'].isna()]\n",
    "\n",
    "# create features\n",
    "# has 1 child\n",
    "nls_df['has 1 child'] = 0\n",
    "nls_df.loc[nls_df['NUMBER OF BIOLOGICAL CHILDREN REPORTED']==1,'has 1 child'] = 1\n",
    "\n",
    "# has 2 children\n",
    "nls_df['has 2 children'] = 0\n",
    "nls_df.loc[nls_df['NUMBER OF BIOLOGICAL CHILDREN REPORTED']==2,'has 2 children'] = 1\n",
    "\n",
    "# has more than 2 children\n",
    "nls_df['has more than 2 children'] = 0\n",
    "nls_df.loc[nls_df['NUMBER OF BIOLOGICAL CHILDREN REPORTED']>2,'has more than 2 children'] = 1\n",
    "\n",
    "# is_married\n",
    "nls_df['is_married'] = 0\n",
    "nls_df.loc[nls_df['MARITAL STATUS']=='Married','is_married'] = 1\n",
    "\n",
    "# age^2\n",
    "nls_df['age_squared'] = nls_df['AGE AT INTERVIEW DATE'] * nls_df['AGE AT INTERVIEW DATE']"
   ]
  },
  {
   "cell_type": "code",
   "execution_count": 164,
   "metadata": {
    "scrolled": true
   },
   "outputs": [],
   "source": [
    "nls_df = nls_df[['has 1 child','has 2 children','has more than 2 children','is_married', 'AGE AT INTERVIEW DATE','age_squared', 'gave_birth_to_child']]\n",
    "nls_df.to_csv('dataset_for_logistic_regression.csv')"
   ]
  },
  {
   "cell_type": "code",
   "execution_count": 172,
   "metadata": {},
   "outputs": [
    {
     "name": "stderr",
     "output_type": "stream",
     "text": [
      "c:\\programdata\\miniconda3\\lib\\site-packages\\sklearn\\linear_model\\logistic.py:432: FutureWarning: Default solver will be changed to 'lbfgs' in 0.22. Specify a solver to silence this warning.\n",
      "  FutureWarning)\n"
     ]
    },
    {
     "data": {
      "text/plain": [
       "0.905927948559852"
      ]
     },
     "execution_count": 172,
     "metadata": {},
     "output_type": "execute_result"
    }
   ],
   "source": [
    "from sklearn.datasets import load_iris\n",
    "from sklearn.linear_model import LogisticRegression\n",
    "\n",
    "X = nls_df[['has 1 child','has 2 children','has more than 2 children','is_married', 'AGE AT INTERVIEW DATE','age_squared']]\n",
    "X['y_intercept'] = 1\n",
    "y = nls_df['gave_birth_to_child']\n",
    "\n",
    "X_train = X[:50000]\n",
    "y_train = y[:50000]\n",
    "clf = LogisticRegression(random_state=0,fit_intercept=False).fit(X_train, y_train)\n",
    "\n",
    "\n",
    "X_test = X[50001:]\n",
    "y_test = y[50001:]\n",
    "clf.score(X_test, y_test)"
   ]
  },
  {
   "cell_type": "code",
   "execution_count": 173,
   "metadata": {},
   "outputs": [
    {
     "name": "stdout",
     "output_type": "stream",
     "text": [
      "[[-3.37198642e+00  1.31086114e+00  1.73538964e+00  4.75135455e-01\n",
      "  -8.48595893e-02 -6.42634684e-04 -3.25735649e-01]]\n"
     ]
    }
   ],
   "source": [
    "print(clf.coef_)"
   ]
  },
  {
   "cell_type": "code",
   "execution_count": 169,
   "metadata": {},
   "outputs": [
    {
     "ename": "SyntaxError",
     "evalue": "invalid syntax (<ipython-input-169-b287f4e3901a>, line 1)",
     "output_type": "error",
     "traceback": [
      "\u001b[1;36m  File \u001b[1;32m\"<ipython-input-169-b287f4e3901a>\"\u001b[1;36m, line \u001b[1;32m1\u001b[0m\n\u001b[1;33m    [[-3.78200691  3.32004304  3.81736928  0.2896024  -0.46164898  0.00605224]]\u001b[0m\n\u001b[1;37m                            ^\u001b[0m\n\u001b[1;31mSyntaxError\u001b[0m\u001b[1;31m:\u001b[0m invalid syntax\n"
     ]
    }
   ],
   "source": [
    "[[-3.78200691  3.32004304  3.81736928  0.2896024  -0.46164898  0.00605224]]\n"
   ]
  },
  {
   "cell_type": "code",
   "execution_count": 174,
   "metadata": {},
   "outputs": [],
   "source": [
    "x_y_values_for_linear_regression = pd.read_csv('C:/Users/l412/Documents/1 projects/2020-05-21 Lifecycle Simulation/data/National Longitudinal Survey 1979/x-y-values-for-learning-birth-probaility.csv')\n",
    "\n",
    "# small correction concerning Alter2\n",
    "x_y_values_for_linear_regression['Alter2'] = x_y_values_for_linear_regression['Alter'] * x_y_values_for_linear_regression['Alter']"
   ]
  },
  {
   "cell_type": "code",
   "execution_count": 175,
   "metadata": {},
   "outputs": [],
   "source": [
    "X = x_y_values_for_linear_regression[['schon_1_Kind', 'schon_2_Kinder', 'schon_mehr_als_2_Kinder', 'verheiratet', 'Alter', 'Alter2']]\n",
    "y = x_y_values_for_linear_regression['child_increase']"
   ]
  },
  {
   "cell_type": "code",
   "execution_count": 176,
   "metadata": {},
   "outputs": [
    {
     "name": "stderr",
     "output_type": "stream",
     "text": [
      "c:\\programdata\\miniconda3\\lib\\site-packages\\ipykernel_launcher.py:1: SettingWithCopyWarning: \n",
      "A value is trying to be set on a copy of a slice from a DataFrame.\n",
      "Try using .loc[row_indexer,col_indexer] = value instead\n",
      "\n",
      "See the caveats in the documentation: https://pandas.pydata.org/pandas-docs/stable/user_guide/indexing.html#returning-a-view-versus-a-copy\n",
      "  \"\"\"Entry point for launching an IPython kernel.\n"
     ]
    }
   ],
   "source": [
    "X['y_intercept'] = 1"
   ]
  },
  {
   "cell_type": "code",
   "execution_count": 177,
   "metadata": {},
   "outputs": [
    {
     "name": "stderr",
     "output_type": "stream",
     "text": [
      "c:\\programdata\\miniconda3\\lib\\site-packages\\sklearn\\linear_model\\logistic.py:432: FutureWarning: Default solver will be changed to 'lbfgs' in 0.22. Specify a solver to silence this warning.\n",
      "  FutureWarning)\n"
     ]
    },
    {
     "data": {
      "text/plain": [
       "0.8447080573101217"
      ]
     },
     "execution_count": 177,
     "metadata": {},
     "output_type": "execute_result"
    }
   ],
   "source": [
    "X_train = X[:35000]\n",
    "y_train = y[:35000]\n",
    "clf = LogisticRegression(random_state=0,fit_intercept=False).fit(X_train, y_train)\n",
    "\n",
    "\n",
    "X_test = X[35001:]\n",
    "y_test = y[35001:]\n",
    "clf.score(X_test, y_test)"
   ]
  },
  {
   "cell_type": "code",
   "execution_count": 178,
   "metadata": {},
   "outputs": [
    {
     "name": "stdout",
     "output_type": "stream",
     "text": [
      "[[-3.78200691  3.32004304  3.81736928  0.2896024  -0.46164898  0.00605224\n",
      "   3.35540541]]\n"
     ]
    }
   ],
   "source": [
    "print(clf.coef_)"
   ]
  },
  {
   "cell_type": "code",
   "execution_count": null,
   "metadata": {},
   "outputs": [],
   "source": [
    "R:\n",
    "0.890214939 -18.767619926  -0.479066890   0.156509189  -0.061962232"
   ]
  }
 ],
 "metadata": {
  "kernelspec": {
   "display_name": "Python 3",
   "language": "python",
   "name": "python3"
  },
  "language_info": {
   "codemirror_mode": {
    "name": "ipython",
    "version": 3
   },
   "file_extension": ".py",
   "mimetype": "text/x-python",
   "name": "python",
   "nbconvert_exporter": "python",
   "pygments_lexer": "ipython3",
   "version": "3.7.1"
  }
 },
 "nbformat": 4,
 "nbformat_minor": 2
}
